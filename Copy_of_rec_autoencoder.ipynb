{
  "nbformat": 4,
  "nbformat_minor": 0,
  "metadata": {
    "colab": {
      "provenance": [],
      "authorship_tag": "ABX9TyMyGFvfEtLg3Ub1lfS16oWf",
      "include_colab_link": true
    },
    "kernelspec": {
      "name": "python3",
      "display_name": "Python 3"
    },
    "language_info": {
      "name": "python"
    }
  },
  "cells": [
    {
      "cell_type": "markdown",
      "metadata": {
        "id": "view-in-github",
        "colab_type": "text"
      },
      "source": [
        "<a href=\"https://colab.research.google.com/github/tejkrish22/learn_git/blob/master/Copy_of_rec_autoencoder.ipynb\" target=\"_parent\"><img src=\"https://colab.research.google.com/assets/colab-badge.svg\" alt=\"Open In Colab\"/></a>"
      ]
    },
    {
      "cell_type": "code",
      "source": [
        "from google.colab import drive\n",
        "drive.mount('/content/drive')"
      ],
      "metadata": {
        "colab": {
          "base_uri": "https://localhost:8080/"
        },
        "id": "ockpf-37sBlu",
        "outputId": "63672f18-2722-495d-de96-f9097875d320"
      },
      "execution_count": null,
      "outputs": [
        {
          "output_type": "stream",
          "name": "stdout",
          "text": [
            "Mounted at /content/drive\n"
          ]
        }
      ]
    },
    {
      "cell_type": "code",
      "source": [
        "import pandas as pd\n",
        "import numpy as np\n",
        "import tensorflow as tf\n",
        "from sklearn.preprocessing import StandardScaler\n",
        "\n",
        "def load_data(filename):\n",
        "    df = pd.read_csv(filename, header=None)\n",
        "    data = df.iloc[:, :2]\n",
        "    return data.values\n",
        "filename = '/content/drive/MyDrive/train/myArray.csv'\n",
        "data = load_data(filename)"
      ],
      "metadata": {
        "id": "YzgFegn94yA9"
      },
      "execution_count": 44,
      "outputs": []
    },
    {
      "cell_type": "code",
      "source": [
        "scaler = StandardScaler()\n",
        "scaled_data = scaler.fit_transform(data)\n",
        "seq_len = 10\n",
        "padded_data = tf.keras.preprocessing.sequence.pad_sequences([scaled_data], maxlen=seq_len, padding='pre', dtype='float32')\n",
        "n_features = 2\n",
        "hidden_dim=128"
      ],
      "metadata": {
        "id": "IazpSs3TXLwN"
      },
      "execution_count": 61,
      "outputs": []
    },
    {
      "cell_type": "code",
      "source": [
        "# prepare recurrent auto encoder and train it\n",
        "in1 = tf.keras.layers.Input(shape=(seq_len, n_features))\n",
        "gru1 = tf.keras.layers.GRU(hidden_dim, name='latent_layer')(in1)\n",
        "rv1 = tf.keras.layers.RepeatVector(seq_len)(gru1)\n",
        "gru2 = tf.keras.layers.GRU(hidden_dim, return_sequences=True)(rv1)\n",
        "tdd1 = tf.keras.layers.TimeDistributed(tf.keras.layers.Dense(n_features))(gru2) \n",
        "model = tf.keras.Model(inputs=in1, outputs=tdd1, name='RAE')\n",
        "model.compile(optimizer=tf.keras.optimizers.Adam(learning_rate=0.0005), loss='mse')\n",
        "history = model.fit(padded_data, padded_data, epochs=50, batch_size=64)\n",
        "# Extract encoder model\n",
        "encoder = tf.keras.Model(inputs=in1, outputs=gru1)"
      ],
      "metadata": {
        "id": "jA5TuNXkfL5a"
      },
      "execution_count": null,
      "outputs": []
    },
    {
      "cell_type": "code",
      "source": [
        "temp = data[0:10]\n",
        "temp = np.expand_dims(temp,axis=0)\n",
        "temp.shape\n",
        "X_encoded = encoder.predict(temp)\n",
        "X_encoded = np.append(X_encoded,[[1,2,3]],axis=1)\n",
        "print(X_encoded.shape)"
      ],
      "metadata": {
        "colab": {
          "base_uri": "https://localhost:8080/"
        },
        "id": "GNOKVKBpj4xn",
        "outputId": "371d249a-98cd-4743-de39-139fc8e73b35"
      },
      "execution_count": 79,
      "outputs": [
        {
          "output_type": "stream",
          "name": "stdout",
          "text": [
            "1/1 [==============================] - 0s 30ms/step\n",
            "(1, 131)\n"
          ]
        }
      ]
    },
    {
      "cell_type": "code",
      "source": [
        "for i in range(len(data)):\n",
        "  temp = scaled_data[i:i+10]\n",
        "  temp = np.expand_dims(temp,axis=0)     # x . y . t . w . d . s . l \n",
        "  X_encoded = encoder.predict(temp)\n",
        "  X_encoded = np.append(X_encoded,[data[i][3],data[i][4],data[i][6]],axis=1)\n",
        "  "
      ],
      "metadata": {
        "colab": {
          "base_uri": "https://localhost:8080/"
        },
        "id": "MHqNgh4EjScC",
        "outputId": "85ee02f2-528a-4a5a-e347-f838f2ea6259"
      },
      "execution_count": 57,
      "outputs": [
        {
          "output_type": "execute_result",
          "data": {
            "text/plain": [
              "10646823"
            ]
          },
          "metadata": {},
          "execution_count": 57
        }
      ]
    },
    {
      "cell_type": "code",
      "source": [
        "\n",
        "\n",
        "# Encode data using encoder model\n",
        "X_encoded = encoder.predict(padded_data)\n",
        "\n",
        "encoder.summary()\n",
        "\n",
        "# embedding (128), writer id, doc id, text line id\n",
        "# row denotes the sub stroke no, col denotes the sub no."
      ],
      "metadata": {
        "id": "rjk9PfVzZmQL",
        "colab": {
          "base_uri": "https://localhost:8080/"
        },
        "outputId": "2fc3c96c-f7a6-4048-9e11-8e286617928e"
      },
      "execution_count": null,
      "outputs": [
        {
          "output_type": "stream",
          "name": "stdout",
          "text": [
            "1/1 [==============================] - 1s 850ms/step\n",
            "Model: \"model\"\n",
            "_________________________________________________________________\n",
            " Layer (type)                Output Shape              Param #   \n",
            "=================================================================\n",
            " input_1 (InputLayer)        [(None, 10, 2)]           0         \n",
            "                                                                 \n",
            " latent_layer (GRU)          (None, 128)               50688     \n",
            "                                                                 \n",
            "=================================================================\n",
            "Total params: 50,688\n",
            "Trainable params: 50,688\n",
            "Non-trainable params: 0\n",
            "_________________________________________________________________\n"
          ]
        }
      ]
    },
    {
      "cell_type": "code",
      "source": [
        "padded_data.shape"
      ],
      "metadata": {
        "colab": {
          "base_uri": "https://localhost:8080/"
        },
        "id": "cD_5VdbJXQDQ",
        "outputId": "4394ae2b-5569-418b-f18a-a51df629299b"
      },
      "execution_count": null,
      "outputs": [
        {
          "output_type": "execute_result",
          "data": {
            "text/plain": [
              "(1, 10, 2)"
            ]
          },
          "metadata": {},
          "execution_count": 7
        }
      ]
    },
    {
      "cell_type": "code",
      "source": [
        "from tensorflow.keras.models import Model\n",
        "from tensorflow.keras.layers import Input, LSTM, RepeatVector, Reshape\n",
        "from tensorflow.keras.callbacks import EarlyStopping\n",
        "# Define LSTM model\n",
        "input_shape = (seq_len, hidden_dim)\n",
        "input_layer = Input(shape=input_shape)\n",
        "lstm_layer = LSTM(64, activation='relu', return_sequences=True)(input_layer)\n",
        "output_layer = tf.keras.layers.TimeDistributed(tf.keras.layers.Dense(n_features))(lstm_layer)\n",
        "lstm_model = Model(inputs=input_layer, outputs=output_layer)\n",
        "lstm_model.compile(optimizer='adam', loss='mse')\n",
        "\n",
        "# Train LSTM model\n",
        "history = lstm_model.fit(X_encoded, padded_data, epochs=50, batch_size=32,\n",
        "                         callbacks=[EarlyStopping(monitor='val_loss', patience=5)])\n",
        "\n"
      ],
      "metadata": {
        "id": "UHS6df9YuVyu"
      },
      "execution_count": null,
      "outputs": []
    }
  ]
}