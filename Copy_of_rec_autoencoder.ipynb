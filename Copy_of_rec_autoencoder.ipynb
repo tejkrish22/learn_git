{
  "nbformat": 4,
  "nbformat_minor": 0,
  "metadata": {
    "colab": {
      "provenance": [],
      "authorship_tag": "ABX9TyN3rODBDjurNnXwVnoDsLmJ",
      "include_colab_link": true
    },
    "kernelspec": {
      "name": "python3",
      "display_name": "Python 3"
    },
    "language_info": {
      "name": "python"
    }
  },
  "cells": [
    {
      "cell_type": "markdown",
      "metadata": {
        "id": "view-in-github",
        "colab_type": "text"
      },
      "source": [
        "<a href=\"https://colab.research.google.com/github/tejkrish22/learn_git/blob/master/Copy_of_rec_autoencoder.ipynb\" target=\"_parent\"><img src=\"https://colab.research.google.com/assets/colab-badge.svg\" alt=\"Open In Colab\"/></a>"
      ]
    },
    {
      "cell_type": "code",
      "source": [
        "from google.colab import drive\n",
        "drive.mount('/content/drive')"
      ],
      "metadata": {
        "colab": {
          "base_uri": "https://localhost:8080/"
        },
        "id": "ockpf-37sBlu",
        "outputId": "63672f18-2722-495d-de96-f9097875d320"
      },
      "execution_count": null,
      "outputs": [
        {
          "output_type": "stream",
          "name": "stdout",
          "text": [
            "Mounted at /content/drive\n"
          ]
        }
      ]
    },
    {
      "cell_type": "code",
      "source": [
        "import pandas as pd\n",
        "import numpy as np\n",
        "import tensorflow as tf\n",
        "from sklearn.preprocessing import StandardScaler\n",
        "\n",
        "def load_data(filename):\n",
        "    df = pd.read_csv(filename, header=None)\n",
        "    data = df.iloc[:, :2]\n",
        "    return data\n",
        "filename = '/content/drive/MyDrive/train/myArray.csv'\n",
        "data = load_data(filename)"
      ],
      "metadata": {
        "id": "YzgFegn94yA9"
      },
      "execution_count": 10,
      "outputs": []
    },
    {
      "cell_type": "code",
      "source": [
        "scaler = StandardScaler()\n",
        "scaled_data = scaler.fit_transform(data)\n",
        "seq_len = 100\n",
        "padded_data = tf.keras.preprocessing.sequence.pad_sequences([scaled_data], maxlen=seq_len, padding='pre', dtype='float32')\n",
        "n_features = 2\n",
        "hidden_dim=128\n",
        "in1 = tf.keras.layers.Input(shape=(seq_len, n_features))\n",
        "gru1 = tf.keras.layers.GRU(hidden_dim, name='latent_layer')(in1)\n",
        "rv1 = tf.keras.layers.RepeatVector(seq_len)(gru1)\n",
        "gru2 = tf.keras.layers.GRU(hidden_dim, return_sequences=True)(rv1)\n",
        "tdd1 = tf.keras.layers.TimeDistributed(tf.keras.layers.Dense(n_features))(gru2) \n",
        "model = tf.keras.Model(inputs=in1, outputs=tdd1, name='RAE')\n",
        "model.compile(optimizer=tf.keras.optimizers.Adam(learning_rate=0.0005), loss='mse')\n",
        "es_callback = tf.keras.callbacks.EarlyStopping(monitor='loss', patience=3)\n",
        "history = model.fit(padded_data, padded_data, epochs=50, batch_size=64, callbacks=[es_callback])\n",
        "\n"
      ],
      "metadata": {
        "id": "IazpSs3TXLwN",
        "colab": {
          "base_uri": "https://localhost:8080/"
        },
        "outputId": "2f342e34-faaa-47d8-e311-6416fc1a2944"
      },
      "execution_count": 27,
      "outputs": [
        {
          "output_type": "stream",
          "name": "stdout",
          "text": [
            "Epoch 1/50\n",
            "1/1 [==============================] - 7s 7s/step - loss: 2.6000\n",
            "Epoch 2/50\n",
            "1/1 [==============================] - 0s 115ms/step - loss: 2.1141\n",
            "Epoch 3/50\n",
            "1/1 [==============================] - 0s 116ms/step - loss: 1.6879\n",
            "Epoch 4/50\n",
            "1/1 [==============================] - 0s 139ms/step - loss: 1.3120\n",
            "Epoch 5/50\n",
            "1/1 [==============================] - 0s 195ms/step - loss: 0.9817\n",
            "Epoch 6/50\n",
            "1/1 [==============================] - 0s 176ms/step - loss: 0.6968\n",
            "Epoch 7/50\n",
            "1/1 [==============================] - 0s 173ms/step - loss: 0.4607\n",
            "Epoch 8/50\n",
            "1/1 [==============================] - 0s 180ms/step - loss: 0.2798\n",
            "Epoch 9/50\n",
            "1/1 [==============================] - 0s 175ms/step - loss: 0.1623\n",
            "Epoch 10/50\n",
            "1/1 [==============================] - 0s 181ms/step - loss: 0.1150\n",
            "Epoch 11/50\n",
            "1/1 [==============================] - 0s 184ms/step - loss: 0.1368\n",
            "Epoch 12/50\n",
            "1/1 [==============================] - 0s 173ms/step - loss: 0.2060\n",
            "Epoch 13/50\n",
            "1/1 [==============================] - 0s 187ms/step - loss: 0.2796\n"
          ]
        }
      ]
    },
    {
      "cell_type": "code",
      "source": [
        "# Extract encoder model\n",
        "encoder = tf.keras.Model(inputs=in1, outputs=gru1)\n",
        "\n",
        "# Encode data using encoder model\n",
        "X_encoded = encoder.predict(padded_data)\n",
        "\n",
        "encoder.summary()\n",
        "\n",
        "# embedding (128), writer id, doc id, text line id\n",
        "# row denotes the sub stroke no, col denotes the sub no."
      ],
      "metadata": {
        "id": "rjk9PfVzZmQL",
        "colab": {
          "base_uri": "https://localhost:8080/"
        },
        "outputId": "2fc3c96c-f7a6-4048-9e11-8e286617928e"
      },
      "execution_count": null,
      "outputs": [
        {
          "output_type": "stream",
          "name": "stdout",
          "text": [
            "1/1 [==============================] - 1s 850ms/step\n",
            "Model: \"model\"\n",
            "_________________________________________________________________\n",
            " Layer (type)                Output Shape              Param #   \n",
            "=================================================================\n",
            " input_1 (InputLayer)        [(None, 10, 2)]           0         \n",
            "                                                                 \n",
            " latent_layer (GRU)          (None, 128)               50688     \n",
            "                                                                 \n",
            "=================================================================\n",
            "Total params: 50,688\n",
            "Trainable params: 50,688\n",
            "Non-trainable params: 0\n",
            "_________________________________________________________________\n"
          ]
        }
      ]
    },
    {
      "cell_type": "code",
      "source": [
        "padded_data.shape"
      ],
      "metadata": {
        "colab": {
          "base_uri": "https://localhost:8080/"
        },
        "id": "cD_5VdbJXQDQ",
        "outputId": "4394ae2b-5569-418b-f18a-a51df629299b"
      },
      "execution_count": null,
      "outputs": [
        {
          "output_type": "execute_result",
          "data": {
            "text/plain": [
              "(1, 10, 2)"
            ]
          },
          "metadata": {},
          "execution_count": 7
        }
      ]
    },
    {
      "cell_type": "code",
      "source": [
        "from tensorflow.keras.models import Model\n",
        "from tensorflow.keras.layers import Input, LSTM, RepeatVector, Reshape\n",
        "from tensorflow.keras.callbacks import EarlyStopping\n",
        "# Define LSTM model\n",
        "input_shape = (seq_len, hidden_dim)\n",
        "input_layer = Input(shape=input_shape)\n",
        "lstm_layer = LSTM(64, activation='relu', return_sequences=True)(input_layer)\n",
        "output_layer = tf.keras.layers.TimeDistributed(tf.keras.layers.Dense(n_features))(lstm_layer)\n",
        "lstm_model = Model(inputs=input_layer, outputs=output_layer)\n",
        "lstm_model.compile(optimizer='adam', loss='mse')\n",
        "\n",
        "# Train LSTM model\n",
        "history = lstm_model.fit(X_encoded, padded_data, epochs=50, batch_size=32,\n",
        "                         callbacks=[EarlyStopping(monitor='val_loss', patience=5)])\n",
        "\n"
      ],
      "metadata": {
        "id": "UHS6df9YuVyu"
      },
      "execution_count": null,
      "outputs": []
    }
  ]
}